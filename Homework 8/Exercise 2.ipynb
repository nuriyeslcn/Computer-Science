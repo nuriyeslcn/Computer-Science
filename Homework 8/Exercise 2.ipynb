{
 "cells": [
  {
   "cell_type": "markdown",
   "metadata": {},
   "source": [
    "### Exercise 2\n",
    "a and b"
   ]
  },
  {
   "cell_type": "code",
   "execution_count": 7,
   "metadata": {},
   "outputs": [
    {
     "name": "stdout",
     "output_type": "stream",
     "text": [
      "Selected tasks for one processor: ['b', '’e’', '’h’']\n",
      "Min number of processors: 4\n"
     ]
    }
   ],
   "source": [
    "import heapq\n",
    "\n",
    "def select_tasks(tasks):\n",
    "    # sorting tasks based on the time they are done\n",
    "    sorted_tasks = sorted(tasks.items(), key=lambda x: x[1][1])\n",
    "    selected_tasks = []\n",
    "    last_finish = 0\n",
    "\n",
    "    for task, (start, finish) in sorted_tasks:\n",
    "        if start >= last_finish:\n",
    "            selected_tasks.append(task)\n",
    "            last_finish = finish\n",
    "\n",
    "    return selected_tasks\n",
    "\n",
    "def num_processors(tasks):\n",
    "    # sorting tasks based on their starting time\n",
    "    sorted_tasks = sorted(tasks.items(), key=lambda x: x[1][0])\n",
    "    processors = []\n",
    "    task_assignment = {}\n",
    "\n",
    "    for task, (start, finish) in sorted_tasks:\n",
    "        if processors and processors[0] <= start:\n",
    "            heapq.heappop(processors)\n",
    "        heapq.heappush(processors, finish)\n",
    "        task_assignment[task] = len(processors)  # Assign task to current number of processors\n",
    "\n",
    "    return len(processors), task_assignment\n",
    "\n",
    "# given example\n",
    "tasks = {'a':(0,6),'b':(1,4),'’c’':(3,5),'’d’':(3,8),'’e’':(4,7),'’f’':(5,9),'’g’':(6,10),'’h’':(8,11)}\n",
    "\n",
    "selected_tasks = select_tasks(tasks)\n",
    "print(\"Selected tasks for one processor:\", selected_tasks)\n",
    "\n",
    "\n",
    "number_of_processors , i = num_processors(tasks)\n",
    "print(f\"Min number of processors: {number_of_processors}\")\n"
   ]
  },
  {
   "cell_type": "markdown",
   "metadata": {},
   "source": [
    "c)\n",
    "For part a, sorting the tasks by finish time for n number of tasks is O(nlogn)\n",
    "Checking and selecting tasks takes O(n)\n",
    "So the sorting dominates the time complecity because after the sorting, there's just a single scan of the items.\n",
    "\n",
    "For part b, sorting tasks based on their starting time takes O(nlogn)\n",
    "Then they're inserted into the min-heap, if k is the number of processors, time is O(logk)\n",
    "and if we have n tasks, we'll have O(nlogk), which is also close to O(nlogn)\n",
    "if sorting and heap operations are both O(nlogn), the complexity is mostly by the sorting step."
   ]
  }
 ],
 "metadata": {
  "kernelspec": {
   "display_name": "Python 3",
   "language": "python",
   "name": "python3"
  },
  "language_info": {
   "codemirror_mode": {
    "name": "ipython",
    "version": 3
   },
   "file_extension": ".py",
   "mimetype": "text/x-python",
   "name": "python",
   "nbconvert_exporter": "python",
   "pygments_lexer": "ipython3",
   "version": "3.12.2"
  }
 },
 "nbformat": 4,
 "nbformat_minor": 2
}
