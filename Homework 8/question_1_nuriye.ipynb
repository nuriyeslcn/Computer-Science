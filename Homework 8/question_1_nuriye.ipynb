{
 "cells": [
  {
   "cell_type": "markdown",
   "metadata": {},
   "source": [
    "### Question 1"
   ]
  },
  {
   "cell_type": "markdown",
   "metadata": {},
   "source": [
    "a) Which problem is solved by running `Algorithm(A, 1, n)`? Prove your answer using mathematical induction. (3P)\n",
    "\n",
    "Inductive Hypothesis:\n",
    "+ Assume that for some l, the algorithm Algorithm(A, l, r) correctly sorts the subarray A[l:r] in ascending order.\n",
    "\n",
    "Best Case:\n",
    "+ When l = r, the algorithm is called for a single element array. This single element array is already sorted by definition since there are no other elements to compare with our single element.  \n",
    "+ In this case, the algorithm will not perform any operations because the first if condition (l<r) is false. \n",
    "+ Therefore, the array A[l:r] remains sorted, and the base case holds.\n",
    "\n",
    "Inductive Steps:\n",
    "+ To be able to proof Algorithm(A, l, r) correctly sorts A[l:r], we have to show it correctly sorts A[l-1:r] first. \n",
    "\n",
    "Step 1: Find the minimum element in A[l-1:r]:\n",
    "+ The algorithm identifines the minimum element in A[l-1:r] as A[i].\n",
    "+ If i is not equal to l-1, it swaps A[i] with A[l-1].\n",
    "+ After this step, A[l-1:r] contains the minimum element at A[l-1] position.\n",
    "\n",
    "Step 2: Recursive call to Algorithm(A, l, r):\n",
    "+ Since we show that Algorithm correctly sorts the subarray A[l:r] for l = r and the subarray A[l-1:r] in ascending order, we can assume that it also can sort the array A[l:r] in ascending order.\n",
    "\n",
    "Conclusion:\n",
    "+ The algorithm Algorithm(A, 1, n) sorts the array A in ascending order by finding minimum element of the unsorted part of the array, placing it in its correct position, and finally recursively processing the remaining subarray. It is similar to selection sort algorithm.\n",
    "\n",
    "\n",
    "b) How many comparisons are performed by `Algorithm(A, 1, n)` when excluding the recursive call in line 7? How many comparisons are necessary overall, including all levels of recursion? Use theta notation and simplify the term as much as possible. (2P)\n",
    "+ When we use `Algorithm(A, 1, n)`, each time the algorithm finds the minimum element in the A[l:r] subarray and compare it to A[l]. Excluding the recursive call in line 7, this results in Θ(r-l) comparisons for that specific subarray.\n",
    "\n",
    "+ When recursive call in line 7 is included, the number of comparisions will accumulate across all levels of recursion. Hence, in total it will be n(n-1)/2 which simplifies to Θ(n^2) for the entire algorithm.\n",
    "\n",
    "c) How many times are array elements swapped when including the recursion (minimum, maximum)? Give an example input for both answers. (2P)\n",
    "+ The algorithm performs **one swap per recursive call** when a swap is needed.  \n",
    "\n",
    "+ The **minimum number of swaps** is 0 if the array is already sorted in ascending order.  \n",
    "  A = [0, 1, 2, 3, 4]\n",
    "  In this case, no swaps are needed because the array is already sorted.  \n",
    "\n",
    "+ The **maximum number of swaps** is \\( n-1 \\) if a swap is needed in each recursive call.  \n",
    "  A = [4, 3, 2, 1, 0]\n",
    "  Here, a swap occurs in every recursive call except the last one.  \n"
   ]
  }
 ],
 "metadata": {
  "kernelspec": {
   "display_name": "LSI_2024",
   "language": "python",
   "name": "python3"
  },
  "language_info": {
   "name": "python",
   "version": "3.13.0"
  }
 },
 "nbformat": 4,
 "nbformat_minor": 2
}
