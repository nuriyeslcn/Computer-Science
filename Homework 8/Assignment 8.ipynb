{
 "cells": [
  {
   "cell_type": "markdown",
   "metadata": {},
   "source": [
    "+ Nuriye Solcan Teknekaya- s75nsolc@uni-bonn.de\n",
    "+ Rojin Yasini- s75ryasi@uni-bonn.de\n",
    "+ Parmida Zamani- s02pzama@uni-bonn.de"
   ]
  },
  {
   "cell_type": "markdown",
   "metadata": {},
   "source": [
    "### Question 1\n",
    "a) Which problem is solved by running `Algorithm(A, 1, n)`? Prove your answer using mathematical induction. (3P)\n",
    "\n",
    "Inductive Hypothesis:\n",
    "+ Assume that for some l, the algorithm Algorithm(A, l, r) correctly sorts the subarray A[l:r] in ascending order.\n",
    "\n",
    "Best Case:\n",
    "+ When l = r, the algorithm is called for a single element array. This single element array is already sorted by definition since there are no other elements to compare with our single element.  \n",
    "+ In this case, the algorithm will not perform any operations because the first if condition (l<r) is false. \n",
    "+ Therefore, the array A[l:r] remains sorted, and the base case holds.\n",
    "\n",
    "Inductive Steps:\n",
    "+ To be able to proof Algorithm(A, l, r) correctly sorts A[l:r], we have to show it correctly sorts A[l-1:r] first. \n",
    "\n",
    "Step 1: Find the minimum element in A[l-1:r]:\n",
    "+ The algorithm identifines the minimum element in A[l-1:r] as A[i].\n",
    "+ If i is not equal to l-1, it swaps A[i] with A[l-1].\n",
    "+ After this step, A[l-1:r] contains the minimum element at A[l-1] position.\n",
    "\n",
    "Step 2: Recursive call to Algorithm(A, l, r):\n",
    "+ Since we show that Algorithm correctly sorts the subarray A[l:r] for l = r and the subarray A[l-1:r] in ascending order, we can assume that it also can sort the array A[l:r] in ascending order.\n",
    "\n",
    "Conclusion:\n",
    "+ The algorithm Algorithm(A, 1, n) sorts the array A in ascending order by finding minimum element of the unsorted part of the array, placing it in its correct position, and finally recursively processing the remaining subarray. It is similar to selection sort algorithm.\n",
    "\n",
    "\n",
    "b) How many comparisons are performed by `Algorithm(A, 1, n)` when excluding the recursive call in line 7? How many comparisons are necessary overall, including all levels of recursion? Use theta notation and simplify the term as much as possible. (2P)\n",
    "+ When we use `Algorithm(A, 1, n)`, each time the algorithm finds the minimum element in the A[l:r] subarray and compare it to A[l]. Excluding the recursive call in line 7, this results in Θ(r-l) comparisons for that specific subarray.\n",
    "\n",
    "+ When recursive call in line 7 is included, the number of comparisions will accumulate across all levels of recursion. Hence, in total it will be n(n-1)/2 which simplifies to Θ(n^2) for the entire algorithm.\n",
    "\n",
    "c) How many times are array elements swapped when including the recursion (minimum, maximum)? Give an example input for both answers. (2P)\n",
    "+ The algorithm performs **one swap per recursive call** when a swap is needed.  \n",
    "\n",
    "+ The **minimum number of swaps** is 0 if the array is already sorted in ascending order.  \n",
    "  A = [0, 1, 2, 3, 4]\n",
    "  In this case, no swaps are needed because the array is already sorted.  \n",
    "\n",
    "+ The **maximum number of swaps** is \\( n-1 \\) if a swap is needed in each recursive call.  \n",
    "  A = [4, 3, 2, 1, 0]\n",
    "  Here, a swap occurs in every recursive call except the last one.  \n"
   ]
  },
  {
   "cell_type": "markdown",
   "metadata": {},
   "source": [
    "### Exercise 2\n",
    "Parts a and b"
   ]
  },
  {
   "cell_type": "code",
   "execution_count": 1,
   "metadata": {},
   "outputs": [
    {
     "name": "stdout",
     "output_type": "stream",
     "text": [
      "Selected tasks for one processor: ['b', '’e’', '’h’']\n",
      "Min number of processors: 4\n"
     ]
    }
   ],
   "source": [
    "import heapq\n",
    "\n",
    "def select_tasks(tasks):\n",
    "    # sorting tasks based on the time they are done\n",
    "    sorted_tasks = sorted(tasks.items(), key=lambda x: x[1][1])\n",
    "    selected_tasks = []\n",
    "    last_finish = 0\n",
    "\n",
    "    for task, (start, finish) in sorted_tasks:\n",
    "        if start >= last_finish:\n",
    "            selected_tasks.append(task)\n",
    "            last_finish = finish\n",
    "\n",
    "    return selected_tasks\n",
    "\n",
    "def num_processors(tasks):\n",
    "    # sorting tasks based on their starting time\n",
    "    sorted_tasks = sorted(tasks.items(), key=lambda x: x[1][0])\n",
    "    processors = []\n",
    "    task_assignment = {}\n",
    "\n",
    "    for task, (start, finish) in sorted_tasks:\n",
    "        if processors and processors[0] <= start:\n",
    "            heapq.heappop(processors)\n",
    "        heapq.heappush(processors, finish)\n",
    "        task_assignment[task] = len(processors)  # Assign task to current number of processors\n",
    "\n",
    "    return len(processors), task_assignment\n",
    "\n",
    "# given example\n",
    "tasks = {'a':(0,6),'b':(1,4),'’c’':(3,5),'’d’':(3,8),'’e’':(4,7),'’f’':(5,9),'’g’':(6,10),'’h’':(8,11)}\n",
    "\n",
    "selected_tasks = select_tasks(tasks)\n",
    "print(\"Selected tasks for one processor:\", selected_tasks)\n",
    "\n",
    "\n",
    "number_of_processors , i = num_processors(tasks)\n",
    "print(f\"Min number of processors: {number_of_processors}\")\n"
   ]
  },
  {
   "cell_type": "markdown",
   "metadata": {},
   "source": [
    "c)\n",
    "For part a, sorting the tasks by finish time for n number of tasks is O(nlogn)\n",
    "Checking and selecting tasks takes O(n)\n",
    "So the sorting dominates the time complecity because after the sorting, there's just a single scan of the items.\n",
    "\n",
    "For part b, sorting tasks based on their starting time takes O(nlogn)\n",
    "Then they're inserted into the min-heap, if k is the number of processors, time is O(logk)\n",
    "and if we have n tasks, we'll have O(nlogk), which is also close to O(nlogn)\n",
    "if sorting and heap operations are both O(nlogn), the complexity is mostly by the sorting step."
   ]
  },
  {
   "cell_type": "markdown",
   "metadata": {},
   "source": [
    "### Exercise 3"
   ]
  },
  {
   "cell_type": "code",
   "execution_count": 2,
   "metadata": {},
   "outputs": [],
   "source": [
    "#Exercise 3 paer a\n",
    "def lcs_recursive(seq1, seq2, n, m):\n",
    "    # Base Case: If either sequence is of size 0, LCS length is 0\n",
    "    if n == 0 or m == 0:\n",
    "        return 0\n",
    "    \n",
    "    # If the last characters match\n",
    "    if seq1[n - 1] == seq2[m - 1]:\n",
    "        return 1 + lcs_recursive(seq1, seq2, n - 1, m - 1)\n",
    "    \n",
    "    # If the last characters do not match\n",
    "    else:\n",
    "        return max(lcs_recursive(seq1, seq2, n - 1, m), lcs_recursive(seq1, seq2, n, m - 1))"
   ]
  },
  {
   "cell_type": "code",
   "execution_count": 3,
   "metadata": {},
   "outputs": [],
   "source": [
    "#Exercise 3 part b\n",
    "# For a sequence with size of n, there are 2^n possible subsequences and for a sequence with size m, there are 2^m possible subsequences, based on part a, running time would be: O(2^n+m)\n",
    "# however since both our sequences have the same size (n), the total posibility is 2^n*2^n = 2^2n possible subsequences, so running time: O(2^2n)"
   ]
  },
  {
   "cell_type": "code",
   "execution_count": 4,
   "metadata": {},
   "outputs": [],
   "source": [
    "#Exercise 3, part c\n",
    "def lcs_dp(seq1, seq2):\n",
    "    n = len(seq1)\n",
    "    m = len(seq2)\n",
    "\n",
    "    # Create a DP table with dimensions (n+1) x (m+1), initialized to 0\n",
    "    dp = [[0] * (m + 1) for _ in range(n + 1)]\n",
    "\n",
    "    # Fill the table iteratively\n",
    "    for i in range(1, n + 1):\n",
    "        for j in range(1, m + 1):\n",
    "            if seq1[i - 1] == seq2[j - 1]:\n",
    "                dp[i][j] = 1 + dp[i - 1][j - 1]\n",
    "            else:\n",
    "                dp[i][j] = max(dp[i - 1][j], dp[i][j - 1])\n",
    "\n",
    "    # The length of the LCS is in the bottom-right cell\n",
    "    return dp[n][m]"
   ]
  },
  {
   "cell_type": "code",
   "execution_count": 5,
   "metadata": {},
   "outputs": [],
   "source": [
    "#Exercise 3, part d\n",
    "#running time for part c is O(n*m)"
   ]
  }
 ],
 "metadata": {
  "kernelspec": {
   "display_name": "Python 3",
   "language": "python",
   "name": "python3"
  },
  "language_info": {
   "codemirror_mode": {
    "name": "ipython",
    "version": 3
   },
   "file_extension": ".py",
   "mimetype": "text/x-python",
   "name": "python",
   "nbconvert_exporter": "python",
   "pygments_lexer": "ipython3",
   "version": "3.12.2"
  }
 },
 "nbformat": 4,
 "nbformat_minor": 2
}
