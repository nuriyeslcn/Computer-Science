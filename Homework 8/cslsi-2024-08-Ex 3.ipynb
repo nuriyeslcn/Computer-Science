{
 "cells": [
  {
   "cell_type": "code",
   "execution_count": 12,
   "metadata": {},
   "outputs": [],
   "source": [
    "#Exercise 3 paer a\n",
    "def lcs_recursive(seq1, seq2, n, m):\n",
    "    # Base Case: If either sequence is of size 0, LCS length is 0\n",
    "    if n == 0 or m == 0:\n",
    "        return 0\n",
    "    \n",
    "    # If the last characters match\n",
    "    if seq1[n - 1] == seq2[m - 1]:\n",
    "        return 1 + lcs_recursive(seq1, seq2, n - 1, m - 1)\n",
    "    \n",
    "    # If the last characters do not match\n",
    "    else:\n",
    "        return max(lcs_recursive(seq1, seq2, n - 1, m), lcs_recursive(seq1, seq2, n, m - 1))\n",
    "\n",
    "\n"
   ]
  },
  {
   "cell_type": "code",
   "execution_count": 13,
   "metadata": {},
   "outputs": [],
   "source": [
    "#Exercise 3 part b\n",
    "# For a sequence with size of n, there are 2^n possible subsequences and for a sequence with size m, there are 2^m possible subsequences, based on part a, running time would be: O(2^n+m)\n",
    "# however since both our sequences have the same size (n), the total posibility is 2^n*2^n = 2^2n possible subsequences, so running time: O(2^2n)\n"
   ]
  },
  {
   "cell_type": "code",
   "execution_count": 14,
   "metadata": {},
   "outputs": [],
   "source": [
    "#Exercise 3, part c\n",
    "def lcs_dp(seq1, seq2):\n",
    "    n = len(seq1)\n",
    "    m = len(seq2)\n",
    "\n",
    "    # Create a DP table with dimensions (n+1) x (m+1), initialized to 0\n",
    "    dp = [[0] * (m + 1) for _ in range(n + 1)]\n",
    "\n",
    "    # Fill the table iteratively\n",
    "    for i in range(1, n + 1):\n",
    "        for j in range(1, m + 1):\n",
    "            if seq1[i - 1] == seq2[j - 1]:\n",
    "                dp[i][j] = 1 + dp[i - 1][j - 1]\n",
    "            else:\n",
    "                dp[i][j] = max(dp[i - 1][j], dp[i][j - 1])\n",
    "\n",
    "    # The length of the LCS is in the bottom-right cell\n",
    "    return dp[n][m]\n",
    "\n"
   ]
  },
  {
   "cell_type": "code",
   "execution_count": 15,
   "metadata": {},
   "outputs": [],
   "source": [
    "#Exercise 3, part d\n",
    "#running time for part c is O(n*m)"
   ]
  }
 ],
 "metadata": {
  "kernelspec": {
   "display_name": "Python 3",
   "language": "python",
   "name": "python3"
  },
  "language_info": {
   "codemirror_mode": {
    "name": "ipython",
    "version": 3
   },
   "file_extension": ".py",
   "mimetype": "text/x-python",
   "name": "python",
   "nbconvert_exporter": "python",
   "pygments_lexer": "ipython3",
   "version": "3.11.1"
  },
  "toc": {
   "base_numbering": 1,
   "nav_menu": {},
   "number_sections": true,
   "sideBar": true,
   "skip_h1_title": false,
   "title_cell": "Table of Contents",
   "title_sidebar": "Contents",
   "toc_cell": false,
   "toc_position": {},
   "toc_section_display": true,
   "toc_window_display": false
  }
 },
 "nbformat": 4,
 "nbformat_minor": 2
}
