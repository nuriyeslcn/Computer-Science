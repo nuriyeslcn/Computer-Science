{
 "cells": [
  {
   "cell_type": "code",
   "execution_count": 2,
   "metadata": {},
   "outputs": [
    {
     "name": "stdout",
     "output_type": "stream",
     "text": [
      "Table written to Exercise 2.csv\n"
     ]
    }
   ],
   "source": [
    "import csv\n",
    "\n",
    "# Data for the table\n",
    "table_data = [\n",
    "    [\"\", \"log2(n)\", \"s(n)\", \"5\", \"2^n\", \"1/n\", \"n\", \"e^n\"],  # Header row                               # if n is odd, then s(n)=o(log2(n) and if n is even then s(n)=ω(log2(n)) no consistant asymptotic relationship\n",
    "    [\"log2(n)\", \"Θ\", \"-\", \"ω\", \"o\", \"ω\", \"o\", \"o\"],                                                      #if n is odd, then s(n)=o(n) and if n is even then s(n)=Θ(n)\n",
    "    [\"s(n)\", \"-\", \"Θ\", \"-\", \"o\", \"ω\", \"-\", \"o\"],                                                         \n",
    "    [\"5\", \"o\", \"-\", \"Θ\", \"o\", \"-\", \"o\", \"o\"],\n",
    "    [\"2^n\", \"ω\", \"ω\", \"ω\", \"Θ\", \"ω\", \"ω\", \"o\"],\n",
    "    [\"1/n\", \"o\", \"o\", \"o\", \"o\", \"Θ\", \"o\", \"o\"],\n",
    "    [\"n\", \"ω\", \"-\", \"ω\", \"o\", \"ω\", \"Θ\", \"o\"],\n",
    "    [\"e^n\", \"ω\", \"ω\", \"ω\", \"ω\", \"ω\", \"ω\", \"Θ\"]\n",
    "]\n",
    "\n",
    "# File name\n",
    "filename = \"Exercise 2.csv\"\n",
    "\n",
    "# Write the table to a CSV file with BOM\n",
    "with open(filename, mode='w', newline='', encoding='utf-8-sig') as file:  # Use utf-8-sig encoding\n",
    "    csv_writer = csv.writer(file)\n",
    "    \n",
    "    # Write rows to the CSV file\n",
    "    csv_writer.writerows(table_data)\n",
    "\n",
    "print(f\"Table written to {filename}\")\n"
   ]
  },
  {
   "cell_type": "code",
   "execution_count": null,
   "metadata": {},
   "outputs": [
    {
     "name": "stdout",
     "output_type": "stream",
     "text": [
      "  Unnamed: 0 log2(n) s(n)  5 2^n 1/n  n e^n\n",
      "0    log2(n)       Θ    -  ω   o   ω  o   o\n",
      "1       s(n)       -    Θ  -   o   ω  -   o\n",
      "2          5       o    -  Θ   o   -  o   o\n",
      "3        2^n       ω    ω  ω   Θ   ω  ω   o\n",
      "4        1/n       o    o  o   o   Θ  o   o\n",
      "5          n       ω    -  ω   o   ω  Θ   o\n",
      "6        e^n       ω    ω  ω   ω   ω  ω   Θ\n"
     ]
    }
   ],
   "source": [
    "import csv\n",
    "import pandas as pd\n",
    "\n",
    "csv_file = \"Exercise 2.csv\" \n",
    "df = pd.read_csv(csv_file)\n",
    "print(df) #\n"
   ]
  }
 ],
 "metadata": {
  "kernelspec": {
   "display_name": "LSI_2024",
   "language": "python",
   "name": "python3"
  },
  "language_info": {
   "codemirror_mode": {
    "name": "ipython",
    "version": 3
   },
   "file_extension": ".py",
   "mimetype": "text/x-python",
   "name": "python",
   "nbconvert_exporter": "python",
   "pygments_lexer": "ipython3",
   "version": "3.13.0"
  },
  "toc": {
   "base_numbering": 1,
   "nav_menu": {},
   "number_sections": true,
   "sideBar": true,
   "skip_h1_title": false,
   "title_cell": "Table of Contents",
   "title_sidebar": "Contents",
   "toc_cell": false,
   "toc_position": {},
   "toc_section_display": true,
   "toc_window_display": false
  }
 },
 "nbformat": 4,
 "nbformat_minor": 2
}
