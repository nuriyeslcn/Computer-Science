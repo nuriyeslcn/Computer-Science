{
 "cells": [
  {
   "cell_type": "markdown",
   "metadata": {},
   "source": [
    "Exercise 2"
   ]
  },
  {
   "cell_type": "code",
   "execution_count": 7,
   "metadata": {},
   "outputs": [
    {
     "name": "stdout",
     "output_type": "stream",
     "text": [
      "Front-to-back sum: 1.00000000000000000000\n",
      "Back-to-front sum: 1.00000000000011368684\n",
      "Numpy sum: 1.00000000000011191048\n"
     ]
    }
   ],
   "source": [
    "import numpy as np\n",
    "\n",
    "# Create the list\n",
    "list_length = (2**10) + 1\n",
    "first_item = 1\n",
    "rest_items = [2 ** -53] * (2**10)  # Value of 2^-53 repeated 2^10 times\n",
    "numbers = [first_item] + rest_items\n",
    "\n",
    "# Front-to-back sum\n",
    "sum_front_to_back = sum(numbers)  #Floating point arithmetic in python has limitations and because the summation starts with the largest value (1) and the numbers get smaller, and the repetition is very large, small values become insignificant compared to (1) and python would round the result and completely ignore the small contributions\n",
    "\n",
    "# Back-to-front sum\n",
    "sum_back_to_front = sum(numbers[::-1]) #becuase the summation starts with smallest number, the large number will not overshadow the percision of rest of the summation, however, rounding errors might still occur\n",
    "\n",
    "# Numpy sum\n",
    "numpy_sum = np.sum(numbers) # most accurate method, which minimize the rounding errors and avoids precision loss, due to its advanced algorithms it is preferred\n",
    "\n",
    "# Print results\n",
    "print(f\"Front-to-back sum: {sum_front_to_back:.20f}\")\n",
    "print(f\"Back-to-front sum: {sum_back_to_front:.20f}\")\n",
    "print(f\"Numpy sum: {numpy_sum:.20f}\")\n"
   ]
  },
  {
   "cell_type": "code",
   "execution_count": 8,
   "metadata": {},
   "outputs": [
    {
     "name": "stdout",
     "output_type": "stream",
     "text": [
      "Front-to-back sum: 1.000000000000227373675443232059\n",
      "Back-to-front sum: 1.000000000000227373675443232059\n",
      "Numpy sum: 1.000000000000227373675443232059\n"
     ]
    }
   ],
   "source": [
    "import numpy as np\n",
    "\n",
    "# Create the list\n",
    "list_length = (2**10) + 1\n",
    "first_item = 1\n",
    "rest_items = [2 ** -52] * (2**10)  # Value of 2^-52 repeated 2^10 times (replacing 2^-53 with 2^-52)\n",
    "numbers = [first_item] + rest_items\n",
    "\n",
    "# Front-to-back sum\n",
    "sum_front_to_back = sum(numbers) \n",
    "\n",
    "# Back-to-front sum\n",
    "sum_back_to_front = sum(numbers[::-1])\n",
    "numpy_sum = np.sum(numbers) \n",
    "\n",
    "# Print results\n",
    "print(f\"Front-to-back sum: {sum_front_to_back:.30f}\")\n",
    "print(f\"Back-to-front sum: {sum_back_to_front:.30f}\")\n",
    "print(f\"Numpy sum: {numpy_sum:.30f}\")\n",
    "\n",
    "# the difference between 3 methods reduced to the point that the result is almost the same, the reason is that 2^-52 is twice as large as 2^-53, so it is large enough to avoid being rounded"
   ]
  }
 ],
 "metadata": {
  "kernelspec": {
   "display_name": "Python 3",
   "language": "python",
   "name": "python3"
  },
  "language_info": {
   "codemirror_mode": {
    "name": "ipython",
    "version": 3
   },
   "file_extension": ".py",
   "mimetype": "text/x-python",
   "name": "python",
   "nbconvert_exporter": "python",
   "pygments_lexer": "ipython3",
   "version": "3.11.1"
  },
  "toc": {
   "base_numbering": 1,
   "nav_menu": {},
   "number_sections": true,
   "sideBar": true,
   "skip_h1_title": false,
   "title_cell": "Table of Contents",
   "title_sidebar": "Contents",
   "toc_cell": false,
   "toc_position": {},
   "toc_section_display": true,
   "toc_window_display": false
  }
 },
 "nbformat": 4,
 "nbformat_minor": 2
}
