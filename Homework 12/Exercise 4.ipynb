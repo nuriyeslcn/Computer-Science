{
 "cells": [
  {
   "cell_type": "markdown",
   "metadata": {},
   "source": [
    "#### Exercise 4"
   ]
  },
  {
   "cell_type": "code",
   "execution_count": 6,
   "metadata": {},
   "outputs": [
    {
     "name": "stdout",
     "output_type": "stream",
     "text": [
      "For single precision results\n",
      "      \n",
      "CGS factorization error: 0.0, orthogonality error: 2.4856973367855196e-11,\n",
      "      \n",
      "MGS factorization error: 2.0731827167218605e-08, orthogonality error: 0.0030502812007035377,\n",
      "      \n",
      "Double precision results:\n",
      "      \n",
      "CGS factorization error: 0.0, orthogonality error: 2.30144444342989e-11,\n",
      "      \n",
      "MGS factorization error: 0.0, orthogonality error: 2.30144444342989e-11\n",
      "\n",
      "Another example for CGS and MGS that work better:\n",
      "      \n",
      "CGS factorization error: 0.0, orthogonality error: 0.0,\n",
      "      \n",
      "MGS factorization error: 0.0, orthogonality error: 0.0\n"
     ]
    }
   ],
   "source": [
    "import numpy as np\n",
    "\n",
    "def CGS(A):\n",
    "    m, n = A.shape\n",
    "    Q = np.zeros((m, n))\n",
    "    R = np.zeros((n, n))\n",
    "    \n",
    "    for k in range(n):\n",
    "        Q[:, k] = A[:, k]\n",
    "        for j in range(k):\n",
    "            R[j, k] = np.dot(Q[:, j], A[:, k])\n",
    "            Q[:, k] -= R[j, k] * Q[:, j]\n",
    "        R[k, k] = np.linalg.norm(Q[:, k])\n",
    "        Q[:, k] /= R[k, k]\n",
    "    \n",
    "    return Q, R\n",
    "\n",
    "def MGS(A):\n",
    "    m, n = A.shape\n",
    "    Q = A.copy()\n",
    "    R = np.zeros((n, n))\n",
    "\n",
    "    for k in range(n):\n",
    "        R[k, k] = np.linalg.norm(Q[:, k])\n",
    "        Q[:, k] /= R[k, k]\n",
    "        for j in range(k + 1, n):\n",
    "            R[k, j] = np.dot(Q[:, k], Q[:, j])\n",
    "            Q[:, j] -= R[k, j] * Q[:, k]\n",
    "\n",
    "    return Q, R\n",
    "\n",
    "def evaluate(A, Q, R):\n",
    "    Eqr = np.linalg.norm(A - np.dot(Q, R), ord=2)\n",
    "    Eord = np.linalg.norm(np.dot(Q.T, Q) - np.eye(Q.shape[1]), ord=2)\n",
    "    return Eqr, Eord\n",
    "\n",
    "# single precision matrix\n",
    "A_single = np.array([[0.7, 0.70711], [0.70001, 0.70711]], dtype=np.float32)\n",
    "Q_cgs_single, R_cgs_single = CGS(A_single)\n",
    "Q_mgs_single, R_mgs_single = MGS(A_single)\n",
    "Eqr_cgs_single, Eord_cgs_single = evaluate(A_single, Q_cgs_single, R_cgs_single)\n",
    "Eqr_mgs_single, Eord_mgs_single = evaluate(A_single, Q_mgs_single, R_mgs_single)\n",
    "\n",
    "# double precision matrix\n",
    "A_double = np.array([[0.7, 0.70711], [0.70001, 0.70711]], dtype=np.float64)\n",
    "Q_cgs_double, R_cgs_double = CGS(A_double)\n",
    "Q_mgs_double, R_mgs_double = MGS(A_double)\n",
    "Eqr_cgs_double, Eord_cgs_double = evaluate(A_double, Q_cgs_double, R_cgs_double)\n",
    "Eqr_mgs_double, Eord_mgs_double = evaluate(A_double, Q_mgs_double, R_mgs_double)\n",
    "\n",
    "print(f\"\"\"For single precision results\n",
    "      \\nCGS factorization error: {Eqr_cgs_single}, orthogonality error: {Eord_cgs_single},\n",
    "      \\nMGS factorization error: {Eqr_mgs_single}, orthogonality error: {Eord_mgs_single},\n",
    "      \\nDouble precision results:\n",
    "      \\nCGS factorization error: {Eqr_cgs_double}, orthogonality error: {Eord_cgs_double},\n",
    "      \\nMGS factorization error: {Eqr_mgs_double}, orthogonality error: {Eord_mgs_double}\"\"\")\n",
    "\n",
    "# it doesn't make a difference in this case to use cgs or mgs because \n",
    "# the columns of A are nearly orthogonal, reducing numerical instability\n",
    "\n",
    "# another ecample\n",
    "A_example = np.array([[1, 1e-10], [0, 1]], dtype=np.float64)\n",
    "Q_cgs_ex, R_cgs_ex = CGS(A_example)\n",
    "Q_mgs_ex, R_mgs_ex = MGS(A_example)\n",
    "Eqr_cgs_ex, Eo_cgs_ex = evaluate(A_example, Q_cgs_ex, R_cgs_ex)\n",
    "Eqr_mgs_ex, Eo_mgs_ex = evaluate(A_example, Q_mgs_ex, R_mgs_ex)\n",
    "\n",
    "print(f\"\"\"\\nAnother example for CGS and MGS that work better:\n",
    "      \\nCGS factorization error: {Eqr_cgs_ex}, orthogonality error: {Eo_cgs_ex},\n",
    "      \\nMGS factorization error: {Eqr_mgs_ex}, orthogonality error: {Eo_mgs_ex}\"\"\")\n"
   ]
  }
 ],
 "metadata": {
  "kernelspec": {
   "display_name": "Python 3",
   "language": "python",
   "name": "python3"
  },
  "language_info": {
   "codemirror_mode": {
    "name": "ipython",
    "version": 3
   },
   "file_extension": ".py",
   "mimetype": "text/x-python",
   "name": "python",
   "nbconvert_exporter": "python",
   "pygments_lexer": "ipython3",
   "version": "3.12.2"
  }
 },
 "nbformat": 4,
 "nbformat_minor": 2
}
