{
 "cells": [
  {
   "cell_type": "markdown",
   "metadata": {},
   "source": [
    "### Question 1"
   ]
  },
  {
   "cell_type": "markdown",
   "metadata": {},
   "source": [
    "#### a) Convert the decimal number 72 to its 8-bit binary representation. (.5P)\n",
    "\n",
    "To convert the decimal number 72 to binary, we perform the following divisions by 2:\n",
    "\n",
    "+ 72 ÷ 2 = 36 remainder 0  \n",
    "+ 36 ÷ 2 = 18 remainder 0  \n",
    "+ 18 ÷ 2 = 9 remainder 0  \n",
    "+ 9 ÷ 2 = 4 remainder 1  \n",
    "+ 4 ÷ 2 = 2 remainder 0  \n",
    "+ 2 ÷ 2 = 1 remainder 0  \n",
    "+ 1 ÷ 2 = 0 remainder 1  \n",
    "\n",
    "The remainders from bottom to top gives us 1001000, but since we need an 8-bit representation, we add a zero, resulting in **01001000**.\n"
   ]
  },
  {
   "cell_type": "markdown",
   "metadata": {},
   "source": [
    "#### b) Convert the binary number 11010010 to its decimal representation. (.5P)\n",
    "\n",
    "+ 1 × 2^7 = 128  \n",
    "+ 1 × 2^6 = 64  \n",
    "+ 0 × 2^5 = 0  \n",
    "+ 1 × 2^4 = 16  \n",
    "+ 0 × 2^3 = 0  \n",
    "+ 0 × 2^2 = 0  \n",
    "+ 1 × 2^1 = 2  \n",
    "+ 0 × 2^0 = 0\n",
    "+ 128 + 64 + 16 + 2 = 210\n",
    "\n",
    "Therefore, the decimal representation of 11010010 is **210**.\n",
    "\n"
   ]
  },
  {
   "cell_type": "markdown",
   "metadata": {},
   "source": [
    "#### c) Convert the floating-point number 4.125 to its binary representation. (1P)"
   ]
  },
  {
   "cell_type": "markdown",
   "metadata": {},
   "source": [
    "Step 1: Separate the integer and fractional parts and convert the integer part to binary\n",
    "- The integer part is **4**.\n",
    "- The fractional part is **0.125**.\n",
    "\n",
    "+ 4 ÷ 2 = 2 remainder 0\n",
    "+ 2 ÷ 2 = 1 remainder 0\n",
    "+ 1 ÷ 2 = 0 remainder 1\n",
    "\n",
    "Step 2: Convert the fractional part to binary\n",
    "+ 0.125 × 2 = 0.25 → integer part: 0\n",
    "+ 0.25 × 2 = 0.5 → integer part: 0\n",
    "+ 0.5 × 2 = 1.0 → integer part: 1\n",
    "\n",
    "- Therefore, the binary representation of **4.125** is **100.001**.\n"
   ]
  },
  {
   "cell_type": "markdown",
   "metadata": {},
   "source": [
    "#### d) Convert the binary number 10101.11 to its floating-point representation. (1P)"
   ]
  },
  {
   "cell_type": "markdown",
   "metadata": {},
   "source": [
    "**Convert to Decimal:**\n",
    "- Integer part: `10101_2 = 21`\n",
    "- Fractional part: `0.11_2 = 0.75`\n",
    "- Decimal value: `21.75`\n",
    "\n",
    "**Normalize the Binary Number:**\n",
    "- Shift the binary point 4 places to the left: `10101.11 → 1.010111 × 2^4`\n",
    "- Mantissa: `1.010111`\n",
    "- Exponent: `4`\n",
    "\n",
    "**Convert the Exponent to Binary:**\n",
    "- `4 = 100<sub>2</sub>\n",
    "\n",
    "**Floating-Point Representation:**\n",
    "- (-1)^0 * 1.010111 * 2^100<sub>2</sub>\n"
   ]
  },
  {
   "cell_type": "markdown",
   "metadata": {},
   "source": [
    "#### e) Add the binary numbers 10101101 and 11011. Show the steps of the addition and the final result in binary form. (1P)\n"
   ]
  },
  {
   "cell_type": "markdown",
   "metadata": {},
   "source": [
    "Step 1: Align the binary numbers:\n",
    "+ To add the binary numbers, align them by their least significant bit:\n",
    "\n",
    "+   10101101\n",
    "+   00011011\n",
    "\n",
    "\n",
    "Step 2: Add the binary numbers step by step:\n",
    "\n",
    "1. \\(1 + 1 = 10\\) → write \\(0\\), carry \\(1\\)\n",
    "2. \\(0 + 1 + 1 = 10\\) → write \\(0\\), carry \\(1\\)\n",
    "3. \\(1 + 0 + 1 = 10\\) → write \\(0\\), carry \\(1\\)\n",
    "4. \\(1 + 1 + 1 = 11\\) → write \\(1\\), carry \\(1\\)\n",
    "5. \\(0 + 0 + 1 = 01\\) → write \\(1\\), carry \\(0\\)\n",
    "6. \\(1 + 1 = 10\\) → write \\(0\\), carry \\(1\\)\n",
    "7. \\(0 + 0 + 1 = 01\\) → write \\(1\\), carry \\(0\\)\n",
    "8. \\(1 + 0 = 1\\)\n",
    "\n",
    "The result is: **11001000**\n"
   ]
  },
  {
   "cell_type": "markdown",
   "metadata": {},
   "source": [
    "#### f) Subtract the binary numbers 111011 and 1010. Show the steps of the subtraction and the final result in binary form. (1P)"
   ]
  },
  {
   "cell_type": "markdown",
   "metadata": {},
   "source": [
    "Step 1: Align the binary numbers\n",
    "+ We need to make sure the binary numbers are aligned correctly. \n",
    "+ Since `1010` has 4 bits, we'll add leading zeros to match the length of the first number.\n",
    "+ 111011\n",
    "+ 001010\n",
    "\n",
    "Step 2: Perform the subtraction from right to left\n",
    "We subtract bit by bit, borrowing when needed:\n",
    "\n",
    "- **1 - 0 = 1** (no borrowing needed)\n",
    "- **1 - 1 = 0** (no borrowing needed)\n",
    "- **0 - 0 = 0** (no borrowing needed)\n",
    "- **1 - 1 = 0** (no borrowing needed)\n",
    "- **1 - 0 = 1** (no borrowing needed)\n",
    "- **1 - 0 = 1** (no borrowing needed)\n",
    "\n",
    "Thus, the subtraction of 111011<sub>2</sub> - 1010<sub>2</sub> gives the final result: 110001<sub>2</sub>"
   ]
  }
 ],
 "metadata": {
  "language_info": {
   "name": "python"
  }
 },
 "nbformat": 4,
 "nbformat_minor": 2
}
