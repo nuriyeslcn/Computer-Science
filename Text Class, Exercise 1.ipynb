{
 "cells": [
  {
   "cell_type": "code",
   "execution_count": null,
   "id": "00860091",
   "metadata": {},
   "outputs": [],
   "source": [
    "import matplotlib.pyplot as plt\n",
    "class Text:\n",
    "    def __init__(self, string, font_data, font_size = 2):\n",
    "        self.font_size = font_size\n",
    "        self.charachter = []\n",
    "        self.current_x = 0\n",
    "        \n",
    "        #object is created for each letter by using font_data and then by using translate method each letter will be positioned next to ptevious one on X-axis\n",
    "        for char in string:\n",
    "            character = Character(char, font_data)\n",
    "            character.scale(self.font_size)  \n",
    "            character.translate((self.current_x, 0)) \n",
    "            self.characters.append(character)\n",
    "            \n",
    "            \n",
    "            bbox = character.bounding_box()\n",
    "            char_width = bbox[1][0] - bbox[0][0]\n",
    "            self.current_x += char_width \n",
    "\n",
    "    # this method will adjust the size of all charachters and helps to align them\n",
    "    def scale(self, factor):\n",
    "        self.font_size *= factor\n",
    "        self.current_x = 0  \n",
    "        for character in self.characters:\n",
    "            character.scale(factor)  \n",
    "            character.translate((self.current_x, 0))  \n",
    "            bbox = character.bounding_box()\n",
    "            char_width = bbox[1][0] - bbox[0][0]\n",
    "            self.current_x += char_width\n",
    "\n",
    "    # by using render we will display the text as an image\n",
    "    def render(self):\n",
    "        plt.figure(figsize=(self.font_size * len(self.characters), self.font_size))\n",
    "        for character in self.characters:\n",
    "            for curve in character.curves:\n",
    "                points = curve.points\n",
    "                if points:  # Plot only if there are points\n",
    "                    x, y = zip(*points)\n",
    "                    plt.plot(x, y, marker='o')  # Draw the curves as lines\n",
    "        plt.axis('equal')\n",
    "        plt.axis('off')  \n",
    "        plt.show() "
   ]
  }
 ],
 "metadata": {
  "kernelspec": {
   "display_name": "Python 3",
   "language": "python",
   "name": "python3"
  },
  "language_info": {
   "codemirror_mode": {
    "name": "ipython",
    "version": 3
   },
   "file_extension": ".py",
   "mimetype": "text/x-python",
   "name": "python",
   "nbconvert_exporter": "python",
   "pygments_lexer": "ipython3",
   "version": "3.11.1"
  }
 },
 "nbformat": 4,
 "nbformat_minor": 5
}
