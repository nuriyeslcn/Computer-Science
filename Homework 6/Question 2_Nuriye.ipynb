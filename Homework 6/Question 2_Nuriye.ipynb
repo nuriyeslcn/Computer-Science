{
 "cells": [
  {
   "cell_type": "code",
   "execution_count": null,
   "metadata": {},
   "outputs": [],
   "source": [
    "class Vector:\n",
    "    def __init__(self, values):\n",
    "        \"\"\"\n",
    "        Initializes a Vector object with a list of numbers.\n",
    "        \n",
    "        Args:\n",
    "            values (list): A list of numbers (either integers or floats) to represent the vector.\n",
    "\n",
    "        Raises:\n",
    "            ValueError: If the input is not a list of numbers.\n",
    "        \"\"\"\n",
    "        # Ensure the input is a list of numbers\n",
    "        if isinstance(values, list) and all(isinstance(x, (int, float)) for x in values):\n",
    "            self.values = values\n",
    "        else:\n",
    "            raise ValueError(\"Input must be a list of numbers\")\n",
    "   \n",
    "    def __str__(self):\n",
    "        \"\"\"\n",
    "        Returns a string representation of the vector with one number per line.\n",
    "        \n",
    "        Returns:\n",
    "            str: A string representation of the vector.\n",
    "        \"\"\"\n",
    "        # Return the contents of the vector, one number per line\n",
    "        return \"\\n\".join(map(str, self.values))\n",
    "    \n",
    "    def __add__(self, other):\n",
    "        \"\"\"\n",
    "        Adds two vectors element-wise.\n",
    "        \n",
    "        Args:\n",
    "            other (Vector): Another Vector object to add to this vector.\n",
    "\n",
    "        Returns:\n",
    "            Vector: A new Vector object that is the sum of the two vectors.\n",
    "\n",
    "        Raises:\n",
    "            ValueError: If the vectors have different lengths.\n",
    "        \"\"\"\n",
    "        if len(self.values) != len(other.values):\n",
    "            raise ValueError(\"Vectors must be of the same length for addition\")\n",
    "        return Vector([a + b for a, b in zip(self.values, other.values)])\n",
    "\n",
    "    def __sub__(self, other):\n",
    "        \"\"\"\n",
    "        Subtracts one vector from another element-wise.\n",
    "        \n",
    "        Args:\n",
    "            other (Vector): Another Vector object to subtract from this vector.\n",
    "\n",
    "        Returns:\n",
    "            Vector: A new Vector object that is the difference of the two vectors.\n",
    "\n",
    "        Raises:\n",
    "            ValueError: If the vectors have different lengths.\n",
    "        \"\"\"\n",
    "        if len(self.values) != len(other.values):\n",
    "            raise ValueError(\"Vectors must be of the same length for subtraction\")\n",
    "        return Vector([a - b for a, b in zip(self.values, other.values)])\n",
    "    \n",
    "    def __mul__(self, other):\n",
    "        \"\"\"\n",
    "        Multiplies a vector by a scalar or computes the dot product of two vectors.\n",
    "        \n",
    "        Args:\n",
    "            other (int, float, or Vector): A scalar value to multiply each element of the vector, \n",
    "                                            or another Vector to compute the dot product.\n",
    "\n",
    "        Returns:\n",
    "            Vector or float: A new Vector object if multiplying by a scalar, \n",
    "                             or a float if computing the dot product.\n",
    "\n",
    "        Raises:\n",
    "            ValueError: If the vectors have different lengths during dot product.\n",
    "        \"\"\"\n",
    "        if isinstance(other, (int, float)):\n",
    "            return Vector([x * other for x in self.values])\n",
    "        elif isinstance(other, Vector):\n",
    "            if len(self.values) != len(other.values):\n",
    "                raise ValueError(\"Vectors must be of the same length for multiplication\")\n",
    "            else:\n",
    "                result = sum(a * b for a, b in zip(self.values, other.values))\n",
    "                return result\n",
    "    \n",
    "    def __rmul__(self, other):\n",
    "        \"\"\"\n",
    "        Multiplies a scalar by a vector (reverse multiplication).\n",
    "        \n",
    "        Args:\n",
    "            other (int, float): A scalar value to multiply with the vector.\n",
    "\n",
    "        Returns:\n",
    "            Vector: A new Vector object that is the result of scalar multiplication.\n",
    "        \"\"\"\n",
    "        if isinstance(other, (int, float)):\n",
    "            return Vector([x * other for x in self.values])\n"
   ]
  },
  {
   "cell_type": "code",
   "execution_count": null,
   "metadata": {},
   "outputs": [
    {
     "name": "stdout",
     "output_type": "stream",
     "text": [
      "5\n",
      "7\n",
      "9\n"
     ]
    }
   ],
   "source": [
    "# Test example for addition\n",
    "v1 = Vector([1,2,3])\n",
    "v2 = Vector([4,5,6])\n",
    "print(v1 + v2)"
   ]
  },
  {
   "cell_type": "code",
   "execution_count": null,
   "metadata": {},
   "outputs": [
    {
     "name": "stdout",
     "output_type": "stream",
     "text": [
      "-3\n",
      "-3\n",
      "-3\n"
     ]
    }
   ],
   "source": [
    "# Test example for substraction\n",
    "v1 = Vector([1,2,3])\n",
    "v2 = Vector([4,5,6])\n",
    "print(v1 - v2)"
   ]
  },
  {
   "cell_type": "code",
   "execution_count": null,
   "metadata": {},
   "outputs": [
    {
     "name": "stdout",
     "output_type": "stream",
     "text": [
      "2\n",
      "4\n",
      "6\n"
     ]
    }
   ],
   "source": [
    "# Test example for multiplication\n",
    "v1 = Vector([1,2,3])\n",
    "print(v1 * 2)"
   ]
  },
  {
   "cell_type": "code",
   "execution_count": null,
   "metadata": {},
   "outputs": [
    {
     "name": "stdout",
     "output_type": "stream",
     "text": [
      "2\n",
      "4\n",
      "6\n"
     ]
    }
   ],
   "source": [
    "# Test example for reverse multiplication\n",
    "v1 = Vector([1,2,3])\n",
    "print(2 * v1)"
   ]
  },
  {
   "cell_type": "code",
   "execution_count": null,
   "metadata": {},
   "outputs": [
    {
     "name": "stdout",
     "output_type": "stream",
     "text": [
      "32\n"
     ]
    }
   ],
   "source": [
    "# Test example for vector to vector multiplication\n",
    "v1 = Vector([1,2,3])\n",
    "v2 = Vector([4,5,6])\n",
    "print(v1 * v2)"
   ]
  }
 ],
 "metadata": {
  "kernelspec": {
   "display_name": "LSI_2024",
   "language": "python",
   "name": "python3"
  },
  "language_info": {
   "codemirror_mode": {
    "name": "ipython",
    "version": 3
   },
   "file_extension": ".py",
   "mimetype": "text/x-python",
   "name": "python",
   "nbconvert_exporter": "python",
   "pygments_lexer": "ipython3",
   "version": "3.13.0"
  }
 },
 "nbformat": 4,
 "nbformat_minor": 2
}
