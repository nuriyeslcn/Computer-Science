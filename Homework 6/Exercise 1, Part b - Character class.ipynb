{
 "cells": [
  {
   "cell_type": "code",
   "execution_count": 7,
   "id": "56ee731f",
   "metadata": {},
   "outputs": [],
   "source": [
    "import json\n",
    "\n",
    "class Character:\n",
    "    \"\"\"\n",
    "    :param character is the character to be processed and visualized\n",
    "    :param font is the dictionaries within thr JSON file\n",
    "    \"\"\"\n",
    "        \n",
    "    def __init__(self, character, font):\n",
    "        self.charachter = character\n",
    "        self.curves = []\n",
    "        with open('letters_geo.json', 'r') as font:\n",
    "            font = font\n",
    "        if character in font:\n",
    "            curve = Curve()\n",
    "            for point in curves_point:\n",
    "                curve.add_point(point)\n",
    "            self.curves.append(curve)\n",
    "            \n",
    "    def convert(self, vector):\n",
    "        for curve in self.curves:\n",
    "            curve.scale(vector)\n",
    "    \n",
    "    def adjust_size(self, size):\n",
    "        for curve in self.curve:\n",
    "            curve.scale(size)"
   ]
  },
  {
   "cell_type": "code",
   "execution_count": 8,
   "id": "1714688d",
   "metadata": {},
   "outputs": [
    {
     "ename": "ValueError",
     "evalue": "I/O operation on closed file.",
     "output_type": "error",
     "traceback": [
      "\u001b[1;31m---------------------------------------------------------------------------\u001b[0m",
      "\u001b[1;31mValueError\u001b[0m                                Traceback (most recent call last)",
      "Cell \u001b[1;32mIn[8], line 1\u001b[0m\n\u001b[1;32m----> 1\u001b[0m char \u001b[38;5;241m=\u001b[39m Character(\u001b[38;5;124m'\u001b[39m\u001b[38;5;124mA\u001b[39m\u001b[38;5;124m'\u001b[39m, \u001b[38;5;124m'\u001b[39m\u001b[38;5;124mletters_geo.json\u001b[39m\u001b[38;5;124m'\u001b[39m)\n",
      "Cell \u001b[1;32mIn[7], line 14\u001b[0m, in \u001b[0;36mCharacter.__init__\u001b[1;34m(self, character, font)\u001b[0m\n\u001b[0;32m     12\u001b[0m \u001b[38;5;28;01mwith\u001b[39;00m \u001b[38;5;28mopen\u001b[39m(\u001b[38;5;124m'\u001b[39m\u001b[38;5;124mletters_geo.json\u001b[39m\u001b[38;5;124m'\u001b[39m) \u001b[38;5;28;01mas\u001b[39;00m font:\n\u001b[0;32m     13\u001b[0m     font \u001b[38;5;241m=\u001b[39m font\n\u001b[1;32m---> 14\u001b[0m \u001b[38;5;28;01mif\u001b[39;00m character \u001b[38;5;129;01min\u001b[39;00m font:\n\u001b[0;32m     15\u001b[0m     curve \u001b[38;5;241m=\u001b[39m Curve()\n\u001b[0;32m     16\u001b[0m     \u001b[38;5;28;01mfor\u001b[39;00m point \u001b[38;5;129;01min\u001b[39;00m curves_point:\n",
      "\u001b[1;31mValueError\u001b[0m: I/O operation on closed file."
     ]
    }
   ],
   "source": [
    "char = Character('A', 'letters_geo.json')"
   ]
  },
  {
   "cell_type": "code",
   "execution_count": null,
   "id": "73b4a803",
   "metadata": {},
   "outputs": [],
   "source": []
  }
 ],
 "metadata": {
  "kernelspec": {
   "display_name": "Python 3 (ipykernel)",
   "language": "python",
   "name": "python3"
  },
  "language_info": {
   "codemirror_mode": {
    "name": "ipython",
    "version": 3
   },
   "file_extension": ".py",
   "mimetype": "text/x-python",
   "name": "python",
   "nbconvert_exporter": "python",
   "pygments_lexer": "ipython3",
   "version": "3.11.7"
  }
 },
 "nbformat": 4,
 "nbformat_minor": 5
}
