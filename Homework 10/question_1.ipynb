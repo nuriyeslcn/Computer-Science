{
 "cells": [
  {
   "cell_type": "markdown",
   "metadata": {},
   "source": [
    "# Question 1\n",
    "#### a) You have a universe of 30 integers `{0, 1, 2, ..., 29}` and a hash table of size 10. Which hash function is better, `h1(k) = k mod 10` or `h2(k) = (k / 10)`? Why? (2P)"
   ]
  },
  {
   "cell_type": "markdown",
   "metadata": {},
   "source": [
    "\n",
    "##### **1. Hash Function `h1(k) = k mod 10`:**\n",
    "- This function computes the remainder when `k` is divided by 10. \n",
    "- Possible bucket values: `{0, 1, 2, ..., 9}`.\n",
    "- Keys are distributed evenly across all 10 buckets. For the universe `{0, 1, ..., 29}`, each bucket will contain approximately 3 keys.\n",
    "\n",
    "##### **Collisions in `h1(k)`:**\n",
    "- Collisions occur when multiple keys map to the same bucket.\n",
    "- **Example:** `9, 19,` and `29` all map to bucket `9`, because:\n",
    "  - `9 mod 10 = 9`\n",
    "  - `19 mod 10 = 9`\n",
    "  - `29 mod 10 = 9`\n",
    "\n",
    "Despite these collisions, the distribution is even, and all buckets are used efficiently.\n",
    "\n",
    "##### **2. Hash Function `h2(k) = (k / 10)`:**\n",
    "- This function divides `k` by 10 and takes the integer part.\n",
    "- Possible bucket values: `{0, 1, 2}`.\n",
    "- For our sample `{0, 1, ..., 29}`, the mapping is:\n",
    "  - `{0, 1, ..., 9} -> 0`\n",
    "  - `{10, 11, ..., 19} -> 1`\n",
    "  - `{20, 21, ..., 29} -> 2`\n",
    "\n",
    "##### **Collisions in `h2(k)`:**\n",
    "- Only 3 buckets (`0, 1, 2`) are used, while the remaining 7 buckets (`3, ..., 9`) are empty.\n",
    "- This causes clustering and wastes space.\n",
    "\n",
    "##### **Conclusion:**\n",
    "- `h1(k)` is better because it uses all 10 buckets and distributes keys more evenly, minimizing clustering. `h2(k)` is worse because it only uses 3 buckets which leads to higher collisions and wasted space.\n"
   ]
  },
  {
   "cell_type": "markdown",
   "metadata": {},
   "source": [
    "#### b) Why might one prefer the second algorithm over the first one? (1P) In the second algorithm, what might be a reason for using 31 as the multiplying factor (rather than, say, 32)? (2P)\n",
    "\n",
    "+ As stated in the question, two hash functions (H1 and H2) both aim to convert a string into a hash value. However their operations are different. \n",
    "+ H1 sums the integer values of each character (using `ord(S[i])`) and takes the result modulo M. In contrast, H2 multiplies the current hash value by 31 before adding the integer value of each character and then taking the result modulo M. \n",
    "+ The second method, H2, is often preferred because multiplying by 31 (a prime number) helps produce a better distribution of hash values, reducing the possibilty of collisions. The use of 31, in particular, is favored because it is a prime number that helps avoid predictable patterns in the hash values. This leads to more evenly distributed results.\n",
    "\n",
    "#### c) Chaining and open addressing are two methods that are used to handle collisions in hash tables. Which one would you prefer for a use case in which most items that are added to the hash table  will be deleted again shortly afterwards? Why? (2P)\n",
    "\n",
    "+ In most cases, chaining is preferable when the majority of the entries added to the hash table will be removed soon after. This is because chaining makes it easy and efficient to delete an item—by simply removing it from the list at the correct index. In contrast, open addressing requires more complex logic to handle deletions, especially when dealing with clusters of items. "
   ]
  },
  {
   "cell_type": "markdown",
   "metadata": {},
   "source": [
    "#### d) The implementation of insertion with probing in the lecture did not check if the key is already present. In such a case, we could either raise an error, or update the value corresponding to the existing key. Specify suitable pseudo code for both of these two options. (2P)\n",
    "\n",
    "+ Below you can find two updated implementations of the `Insert` method given in the lecture.\n",
    "\n",
    "##### Version 1: Insert with Error for Existing Key\n",
    "```python\n",
    "    def Insert(self, x):\n",
    "        for i in range(self.m):\n",
    "            j = h(x.key, i)  \n",
    "            \n",
    "            # Check if the key already exists in the table\n",
    "            if self.T[j] != None and self.T[j].key == x.key:\n",
    "                raise ValueError(\"Key already exists\")  # Raise an error if the key is already present\n",
    "            \n",
    "            # If the position is empty, insert the element at this position\n",
    "            if self.T[j] == None:\n",
    "                self.T[j] = x\n",
    "                return j     \n",
    "    \n",
    "        raise OverflowError(\"Hash table is full\")\n",
    "```\n",
    "##### Version 2: Insert with Update for Existing Key\n",
    "```python\n",
    "    def Insert(self, x):\n",
    "        for i in range(self.m):\n",
    "            j = h(x.key, i)\n",
    "            \n",
    "            # Check if the key already exists in the table\n",
    "            if self.T[j] != None and self.T[j].key == x.key:\n",
    "                self.T[j].value = x.value  # Update the value for the existing key\n",
    "                return j  # Return the position where the value was updated\n",
    "            \n",
    "            # If the position is empty, insert the element at this position\n",
    "            if self.T[j] == None:\n",
    "                self.T[j] = x\n",
    "                return j  \n",
    "        \n",
    "        raise OverflowError(\"Hash table is full\")\n",
    "\n"
   ]
  }
 ],
 "metadata": {
  "language_info": {
   "name": "python"
  }
 },
 "nbformat": 4,
 "nbformat_minor": 2
}
