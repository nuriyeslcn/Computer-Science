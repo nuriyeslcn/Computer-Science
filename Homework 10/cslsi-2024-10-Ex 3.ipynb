{
 "cells": [
  {
   "cell_type": "code",
   "execution_count": 6,
   "metadata": {},
   "outputs": [
    {
     "name": "stdout",
     "output_type": "stream",
     "text": [
      "\n",
      "BFS Tree with Node 1 as Root:\n",
      "        1\n",
      "      / | \\\n",
      "     3  5  6\n",
      "    / \\  \\\n",
      "   2   4   7\n",
      "\n",
      "\n",
      "BFS Tree with Node 3 as Root:\n",
      "        3\n",
      "      /   \\\n",
      "     2     4\n",
      "     |      \\\n",
      "     7      6\n",
      "            |\n",
      "            5\n",
      "\n"
     ]
    }
   ],
   "source": [
    "# Exercise 3\n",
    "print(\"\"\"\n",
    "BFS Tree with Node 1 as Root:\n",
    "        1\n",
    "      / | \\\\\n",
    "     3  5  6\n",
    "    / \\\\  \\\\\n",
    "   2   4   7\n",
    "\"\"\")\n",
    "print(\"\"\"\n",
    "BFS Tree with Node 3 as Root:\n",
    "        3\n",
    "      /   \\\\\n",
    "     2     4\n",
    "     |      \\\\\n",
    "     7      6\n",
    "            |\n",
    "            5\n",
    "\"\"\")"
   ]
  },
  {
   "cell_type": "code",
   "execution_count": 4,
   "metadata": {},
   "outputs": [
    {
     "name": "stdout",
     "output_type": "stream",
     "text": [
      "\n",
      "BFS Tree Rooted at Node 3:\n",
      "        3\n",
      "      /   \\\n",
      "     2     4\n",
      "     |      \\\n",
      "     7      6\n",
      "            |\n",
      "            5\n",
      "\n"
     ]
    }
   ],
   "source": []
  }
 ],
 "metadata": {
  "kernelspec": {
   "display_name": "Python 3",
   "language": "python",
   "name": "python3"
  },
  "language_info": {
   "codemirror_mode": {
    "name": "ipython",
    "version": 3
   },
   "file_extension": ".py",
   "mimetype": "text/x-python",
   "name": "python",
   "nbconvert_exporter": "python",
   "pygments_lexer": "ipython3",
   "version": "3.11.1"
  },
  "toc": {
   "base_numbering": 1,
   "nav_menu": {},
   "number_sections": true,
   "sideBar": true,
   "skip_h1_title": false,
   "title_cell": "Table of Contents",
   "title_sidebar": "Contents",
   "toc_cell": false,
   "toc_position": {},
   "toc_section_display": true,
   "toc_window_display": false
  }
 },
 "nbformat": 4,
 "nbformat_minor": 2
}
