{
 "cells": [
  {
   "cell_type": "markdown",
   "metadata": {},
   "source": [
    "### Question 1\n",
    "####  a) Convert the pseudocode implementation of disjoint set forests that is given in the lecture slides into valid Python code. Use it to make 1.000 sets, and perform a random mix of 500.000 union and find operations on them, with random parameters. Report the resulting running time. (4P)"
   ]
  },
  {
   "cell_type": "code",
   "execution_count": 1,
   "metadata": {},
   "outputs": [],
   "source": [
    "# Define disjoint set data structure and its operations\n",
    "class Node: # Node class\n",
    "    def __init__(self):\n",
    "        self.parent = self # Initially a node is its own parent\n",
    "        self.rank = 0 # Rank of the node\n",
    "\n",
    "def make_set(x): # Make set of x \n",
    "    x.parent = x # A new set's parent is itself\n",
    "    x.rank = 0 # Rank of x is 0 \n",
    "\n",
    "def find_set(x): # Find set of x \n",
    "    if x != x.parent: # If x is not the parent of x\n",
    "        x.parent = find_set(x.parent)  # Recursively find the root parent of x\n",
    "    return x.parent # Return the root parent of x\n",
    "\n",
    "def union(x, y): # Union two sets x and y\n",
    "    link(find_set(x), find_set(y)) # Link the root parents of the two sets\n",
    "\n",
    "def link(x, y): # Link two sets x and y\n",
    "    if x.rank > y.rank: # If rank of x is greater than rank of y\n",
    "        y.parent = x # Make x the parent of y\n",
    "    else: \n",
    "        x.parent = y # Make y the parent of x\n",
    "        if x.rank == y.rank: # If ranks are equal, increment the rank of y\n",
    "            y.rank += 1\n"
   ]
  },
  {
   "cell_type": "code",
   "execution_count": 2,
   "metadata": {},
   "outputs": [],
   "source": [
    "import random\n",
    "import time"
   ]
  },
  {
   "cell_type": "code",
   "execution_count": 3,
   "metadata": {},
   "outputs": [
    {
     "name": "stdout",
     "output_type": "stream",
     "text": [
      "Time taken with path compression and union by rank: 1.58 seconds\n"
     ]
    }
   ],
   "source": [
    "# Create 1000 nodes and make set of each node\n",
    "n = 1000\n",
    "nodes = [Node() for _ in range(n)] \n",
    "\n",
    "# Perform 500000 random union and find operations\n",
    "operations = 500000\n",
    "start_time = time.time()\n",
    "\n",
    "for _ in range(operations):\n",
    "    op_type = random.choice([\"union\", \"find\"])\n",
    "    a = random.randint(0, n - 1)\n",
    "    b = random.randint(0, n - 1)\n",
    "\n",
    "    if op_type == \"union\":\n",
    "        union(nodes[a], nodes[b])\n",
    "    else:  # \"find\"\n",
    "        find_set(nodes[a])\n",
    "\n",
    "end_time = time.time()\n",
    "\n",
    "# Report the running time\n",
    "print(f\"Time taken with path compression and union by rank: {end_time - start_time:.2f} seconds\")"
   ]
  },
  {
   "cell_type": "markdown",
   "metadata": {},
   "source": [
    "#### b) Remove the path compression. Repeat the experiment and report the resulting running time. (2P)"
   ]
  },
  {
   "cell_type": "code",
   "execution_count": null,
   "metadata": {},
   "outputs": [
    {
     "name": "stdout",
     "output_type": "stream",
     "text": [
      "Time without Path Compression: 1.85 seconds\n"
     ]
    }
   ],
   "source": [
    "def find_set_no_compression(x): # Find set of x without path compression\n",
    "    if x != x.parent:\n",
    "        return find_set_no_compression(x.parent)\n",
    "    return x.parent\n",
    "\n",
    "def union_no_compression(x, y): # Union two sets x and y without path compression\n",
    "    link(find_set_no_compression(x), find_set_no_compression(y))\n",
    "\n",
    "# Perform 500000 random union and find operations without path compression\n",
    "start_time = time.time()\n",
    "for _ in range(500000):\n",
    "    op = random.choice(['union', 'find'])\n",
    "    a, b = random.sample(nodes, 2)\n",
    "    if op == 'union':\n",
    "        union_no_compression(a, b)\n",
    "    else:\n",
    "        find_set_no_compression(a)\n",
    "end_time = time.time()\n",
    "\n",
    "print(f\"Time without path compression: {end_time - start_time:.2f} seconds\")"
   ]
  },
  {
   "cell_type": "markdown",
   "metadata": {},
   "source": [
    "#### c) Now, additionally remove the union-by-rank heuristic. Instead, Link should always make the  representative of the second set a child of the rst sets representative. Repeat the experiment  and report the resulting running time. (2P)"
   ]
  },
  {
   "cell_type": "code",
   "execution_count": 6,
   "metadata": {},
   "outputs": [
    {
     "name": "stdout",
     "output_type": "stream",
     "text": [
      "Time without Union-by-Rank and Path Compression: 1.86 seconds\n"
     ]
    }
   ],
   "source": [
    "def link_no_rank(x, y): # Link two sets x and y without rank\n",
    "    x.parent = y\n",
    "\n",
    "def union_no_rank(x, y): # Union two sets x and y without rank\n",
    "    link_no_rank(find_set_no_compression(x), find_set_no_compression(y))\n",
    "\n",
    "# Perform 500000 random union and find operations without union by rank and path compression\n",
    "start_time = time.time()\n",
    "for _ in range(500000):\n",
    "    op = random.choice(['union', 'find'])\n",
    "    a, b = random.sample(nodes, 2)\n",
    "    if op == 'union':\n",
    "        union_no_rank(a, b)\n",
    "    else:\n",
    "        find_set_no_compression(a)\n",
    "end_time = time.time()\n",
    "\n",
    "print(f\"Time without union by rank and path compression: {end_time - start_time:.2f} seconds\")"
   ]
  }
 ],
 "metadata": {
  "kernelspec": {
   "display_name": "LSI_2024",
   "language": "python",
   "name": "python3"
  },
  "language_info": {
   "codemirror_mode": {
    "name": "ipython",
    "version": 3
   },
   "file_extension": ".py",
   "mimetype": "text/x-python",
   "name": "python",
   "nbconvert_exporter": "python",
   "pygments_lexer": "ipython3",
   "version": "3.13.0"
  }
 },
 "nbformat": 4,
 "nbformat_minor": 2
}
